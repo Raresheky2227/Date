{
  "cells": [
    {
      "cell_type": "markdown",
      "metadata": {
        "id": "JmUT4ie2wvYE"
      },
      "source": [
        "[![Open In Colab](https://colab.research.google.com/assets/colab-badge.svg)](https://colab.research.google.com/github/ACS-IC-labs/IC-labs/blob/main/labs/lab03/lab3.ipynb)"
      ]
    },
    {
      "cell_type": "markdown",
      "metadata": {
        "id": "kdgVwoZspQBq"
      },
      "source": [
        "# Laboratorul 03 - PRGs"
      ]
    },
    {
      "cell_type": "markdown",
      "metadata": {
        "id": "aY99PLFcpR_M"
      },
      "source": [
        "Prezentarea PowerPoint pentru acest laborator poate fi găsită [aici](https://drive.google.com/file/d/1IfyMkfV6jQDzW5KhS_B6wt_azV31SLjL/view). Puteți găsi o scurtă prezentare a noțiunii de avantaje în [acest](https://drive.google.com/file/d/1F_mtKi0zeAn1xYQs6Wc7IiiVX8ZW6aeG/view) PDF."
      ]
    },
    {
      "cell_type": "markdown",
      "metadata": {
        "id": "OVYpWZP4s_nH"
      },
      "source": [
        "## Funcții utile"
      ]
    },
    {
      "cell_type": "code",
      "execution_count": null,
      "metadata": {
        "id": "SrnjiaAkpC8S"
      },
      "outputs": [],
      "source": [
        "import base64\n",
        "from typing import Generator\n",
        "\n",
        "\n",
        "def _pad(data: str, size: int) -> str:\n",
        "    reminder = len(data) % size\n",
        "    if reminder != 0:\n",
        "        data = \"0\" * (size - reminder) + data\n",
        "    return data\n",
        "\n",
        "\n",
        "def _chunks(data: str, chunk_size: int) -> Generator[str, None, None]:\n",
        "    data = _pad(data, chunk_size)\n",
        "    for i in range(0, len(data), chunk_size):\n",
        "        yield data[i : i + chunk_size]\n",
        "\n",
        "\n",
        "def _hex(data: int) -> str:\n",
        "    return format(data, \"02x\")\n",
        "\n",
        "\n",
        "# Conversion functions\n",
        "\n",
        "\n",
        "def hex_2_bin(data: str) -> str:\n",
        "    \"\"\"Converts a hexadecimal string to a binary representation.\n",
        "\n",
        "    Args:\n",
        "        data (str): The hexadecimal string to be converted. It should have an\n",
        "            even number of characters and only contain valid hexadecimal digits\n",
        "            (0-9, A-F, a-f).\n",
        "\n",
        "    Returns:\n",
        "        str: The binary representation of the hexadecimal string, where each\n",
        "            pair of hexadecimal digits is encoded as an 8-bit binary number.\n",
        "\n",
        "    Examples:\n",
        "        >>> hex_2_bin(\"01abcd\")\n",
        "        '000000011010101111001101'\n",
        "        >>> hex_2_bin(\"0a\")\n",
        "        '00001010'\n",
        "    \"\"\"\n",
        "    return \"\".join(f\"{int(x, 16):08b}\" for x in _chunks(data, 2))\n",
        "\n",
        "\n",
        "def bin_2_hex(data: str) -> str:\n",
        "    \"\"\"Converts a binary string to a hexadecimal representation.\n",
        "\n",
        "    Args:\n",
        "        data (str): The binary string to be converted. It should have a multiple\n",
        "            of 8 characters and only contain valid binary digits (0 or 1).\n",
        "\n",
        "    Returns:\n",
        "        str: The hexadecimal representation of the binary string, where each\n",
        "            group of 8 binary digits is encoded as a pair of hexadecimal digits.\n",
        "\n",
        "    Examples:\n",
        "        >>> bin_2_hex(\"000000011010101111001101\")\n",
        "        '01abcd'\n",
        "        >>> bin_2_hex(\"00001010\")\n",
        "        '0a'\n",
        "    \"\"\"\n",
        "    return \"\".join(f\"{int(b, 2):02x}\" for b in _chunks(data, 8))\n",
        "\n",
        "\n",
        "def str_2_bin(data: str) -> str:\n",
        "    \"\"\"Converts a string to a binary representation.\n",
        "\n",
        "    Args:\n",
        "        data (str): The string to be converted.\n",
        "\n",
        "    Returns:\n",
        "        str: The binary representation of the string, where each character is\n",
        "            encoded as an 8-bit binary number.\n",
        "\n",
        "    Examples:\n",
        "        >>> str_2_bin(\"Hello\")\n",
        "        '0100100001100101011011000110110001101111'\n",
        "        >>> str_2_bin(\"IC\")\n",
        "        '0100100101000011'\n",
        "    \"\"\"\n",
        "    return \"\".join(f\"{ord(c):08b}\" for c in data)\n",
        "\n",
        "\n",
        "def bin_2_str(data: str) -> str:\n",
        "    \"\"\"Converts a binary string to a string.\n",
        "\n",
        "    Args:\n",
        "        data (str): The binary string to be converted. It should have a multiple\n",
        "            of 8 characters and only contain valid binary digits (0 or 1).\n",
        "\n",
        "    Returns:\n",
        "        str: The string representation of the binary string, where each group\n",
        "            of 8 binary digits is decoded as a character.\n",
        "\n",
        "    Examples:\n",
        "        >>> bin_2_str(\"0100100001100101011011000110110001101111\")\n",
        "        'Hello'\n",
        "        >>> bin_2_str(\"0100100101000011\")\n",
        "        'IC'\n",
        "    \"\"\"\n",
        "    return \"\".join(chr(int(b, 2)) for b in _chunks(data, 8))\n",
        "\n",
        "\n",
        "def str_2_hex(data: str) -> str:\n",
        "    \"\"\"Converts a string to a hexadecimal representation.\n",
        "\n",
        "    Args:\n",
        "        data (str): The string to be converted.\n",
        "\n",
        "    Returns:\n",
        "        str: The hexadecimal representation of the string, where each character\n",
        "            is encoded as a pair of hexadecimal digits.\n",
        "\n",
        "    Examples:\n",
        "        >>> str_2_hex(\"Hello\")\n",
        "        '48656c6c6f'\n",
        "        >>> str_2_hex(\"IC\")\n",
        "        '4943'\n",
        "    \"\"\"\n",
        "    return \"\".join(f\"{ord(c):02x}\" for c in data)\n",
        "\n",
        "\n",
        "def hex_2_str(data: str) -> str:\n",
        "    \"\"\"Converts a hexadecimal string to a string.\n",
        "\n",
        "    Args:\n",
        "        data (str): The hexadecimal string to be converted. It should have an\n",
        "            even number of characters and only contain valid hexadecimal digits\n",
        "            (0-9, A-F, a-f).\n",
        "\n",
        "    Returns:\n",
        "        str: The string representation of the hexadecimal string, where each\n",
        "            pair of hexadecimal digits is decoded as a character.\n",
        "\n",
        "    Examples:\n",
        "        >>> hex_2_str(\"48656c6c6f\")\n",
        "        'Hello'\n",
        "        >>> hex_2_str(\"4943\")\n",
        "        'IC'\n",
        "    \"\"\"\n",
        "    return \"\".join(chr(int(x, 16)) for x in _chunks(data, 2))\n",
        "\n",
        "\n",
        "# XOR functions\n",
        "\n",
        "\n",
        "def strxor(operand_1: str, operand_2: str) -> str:\n",
        "    \"\"\"Performs a bitwise exclusive OR (XOR) operation on two strings.\n",
        "\n",
        "    Args:\n",
        "        operand_1 (str): The first string to be XORed.\n",
        "        operand_2 (str): The second string to be XORed.\n",
        "\n",
        "    Returns:\n",
        "        str: The result of the XOR operation on the two strings, where each\n",
        "            character is encoded as an 8-bit binary number. The result has\n",
        "            the same length as the shorter input string.\n",
        "\n",
        "    Examples:\n",
        "        >>> strxor(\"Hello\", \"IC\")\n",
        "        '\\\\x01&'\n",
        "        >>> strxor(\"secret\", \"key\")\n",
        "        '\\\\x18\\\\x00\\\\x1a'\n",
        "    \"\"\"\n",
        "    return \"\".join(chr(ord(x) ^ ord(y)) for (x, y) in zip(operand_1, operand_2))\n",
        "\n",
        "\n",
        "def bitxor(operand_1: str, operand_2: str) -> str:\n",
        "    \"\"\"Performs a bitwise exclusive OR (XOR) operation on two bit-strings.\n",
        "\n",
        "    Args:\n",
        "        operand_1 (str): The first bit-string to be XORed. It should only\n",
        "            contain valid binary digits (0 or 1).\n",
        "        operand_2 (str): The second bit-string to be XORed. It should only\n",
        "            contain valid binary digits (0 or 1).\n",
        "\n",
        "    Returns:\n",
        "        str: The result of the XOR operation on the two bit-strings, where each\n",
        "            bit is encoded as a character. The result has the same length as\n",
        "            the shorter input bit-string.\n",
        "\n",
        "    Examples:\n",
        "        >>> bitxor(\"01001000\", \"01000010\")\n",
        "        '00001010'\n",
        "        >>> bitxor(\"10101010\", \"00110011\")\n",
        "        '10011001'\n",
        "    \"\"\"\n",
        "    return \"\".join(str(int(x) ^ int(y)) for (x, y) in zip(operand_1, operand_2))\n",
        "\n",
        "\n",
        "def hexxor(operand_1: str, operand_2: str) -> str:\n",
        "    \"\"\"Performs a bitwise exclusive OR (XOR) operation on two hexadecimal\n",
        "    strings.\n",
        "\n",
        "    Args:\n",
        "        operand_1 (str): The first hexadecimal string to be XORed. It should\n",
        "            have an even number of characters and only contain valid hexadecimal\n",
        "            digits (0-9, A-F, a-f).\n",
        "        operand_2 (str): The second hexadecimal string to be XORed. It should\n",
        "            have an even number of characters and only contain valid\n",
        "            digits (0-9, A-F, a-f).\n",
        "\n",
        "    Returns:\n",
        "        str: The result of the XOR operation on the two hexadecimal strings,\n",
        "            where each pair of hexadecimal digits is encoded as a pair of\n",
        "            hexadecimal digits. The result has the same length as the shorter\n",
        "            input hexadecimal string.\n",
        "\n",
        "    Examples:\n",
        "        >>> hexxor(\"48656c6c6f\", \"42696e67\")\n",
        "        '0a0c020b'\n",
        "        >>> hexxor(\"736563726574\", \"6b6579\")\n",
        "        '18001a'\n",
        "    \"\"\"\n",
        "    return \"\".join(\n",
        "        _hex(int(x, 16) ^ int(y, 16))\n",
        "        for (x, y) in zip(_chunks(operand_1, 2), _chunks(operand_2, 2))\n",
        "    )\n",
        "\n",
        "\n",
        "# Python3 'bytes' functions\n",
        "\n",
        "\n",
        "def bytes_to_string(bytes_data: bytearray | bytes) -> str:\n",
        "    \"\"\"Converts a byte array or a byte string to a string.\n",
        "\n",
        "    Args:\n",
        "        bytes_data (bytearray | bytes): The byte array or the byte string to be\n",
        "            converted. It should be encoded in Latin-1 format.\n",
        "\n",
        "    Returns:\n",
        "        str: The string representation of the byte array or the byte string,\n",
        "            decoded using Latin-1 encoding.\n",
        "\n",
        "    Examples:\n",
        "        >>> bytes_to_string(b'Hello')\n",
        "        'Hello'\n",
        "        >>> bytes_to_string(bytearray(b'IC'))\n",
        "        'IC'\n",
        "    \"\"\"\n",
        "    return bytes_data.decode(encoding=\"raw_unicode_escape\")\n",
        "\n",
        "\n",
        "def string_to_bytes(string_data: str) -> bytes:\n",
        "    \"\"\"Converts a string to a byte string.\n",
        "\n",
        "    Args:\n",
        "        string_data (str): The string to be converted.\n",
        "\n",
        "    Returns:\n",
        "        bytes: The byte string representation of the string, encoded using\n",
        "        Latin-1 encoding.\n",
        "\n",
        "    Examples:\n",
        "        >>> string_to_bytes('Hello')\n",
        "        b'Hello'\n",
        "        >>> string_to_bytes('IC')\n",
        "        b'IC'\n",
        "    \"\"\"\n",
        "    return string_data.encode(encoding=\"raw_unicode_escape\")\n",
        "\n",
        "\n",
        "# Base64 functions\n",
        "\n",
        "\n",
        "def b64encode(data: str) -> str:\n",
        "    \"\"\"Encodes a string to base64.\n",
        "\n",
        "    Parameters:\n",
        "        data (str): The string to be encoded.\n",
        "\n",
        "    Returns:\n",
        "        str: The base64 encoded string, using Latin-1 encoding.\n",
        "\n",
        "    Examples:\n",
        "        >>> b64encode(\"Hello\")\n",
        "        'SGVsbG8='\n",
        "        >>> b64encode(\"IC\")\n",
        "        'SUM='\n",
        "    \"\"\"\n",
        "    return bytes_to_string(base64.b64encode(string_to_bytes(data)))\n",
        "\n",
        "\n",
        "def b64decode(data: str) -> str:\n",
        "    \"\"\"Decodes a base64 encoded string.\n",
        "\n",
        "    Args:\n",
        "        data (str): The base64 encoded string to be decoded. It should only\n",
        "            contain valid base64 characters (A-Z, a-z, 0-9, +, /, =).\n",
        "\n",
        "    Returns:\n",
        "        str: The decoded string, using Latin-1 encoding.\n",
        "\n",
        "    Examples:\n",
        "        >>> b64decode(\"SGVsbG8=\")\n",
        "        'Hello'\n",
        "        >>> b64decode(\"SUM=\")\n",
        "        'IC'\n",
        "    \"\"\"\n",
        "    return bytes_to_string(base64.b64decode(string_to_bytes(data)))"
      ]
    },
    {
      "cell_type": "markdown",
      "metadata": {
        "id": "0v79bFjzs7pX"
      },
      "source": [
        "## Exercițiul 1 (3p)"
      ]
    },
    {
      "cell_type": "markdown",
      "metadata": {
        "id": "IClWOp6BpdWj"
      },
      "source": [
        "În acest exercițiu vom încerca să spargem un LCG (Linear Congruential Generator, care se poate folosi pentru a genera numere “slab” aleatoare. Am folosit un astfel de generator pentru a obține o secvență de octeți cu care a fost criptat un mesaj (plaintext). Textul cifrat (ciphertext) în sistemul hexazecimal este următorul:\n",
        "\n",
        "```\n",
        "a432109f58ff6a0f2e6cb280526708baece6680acc1f5fcdb9523129434ae9f6ae9edc2f224b73a8\n",
        "```\n",
        "\n",
        "După cum știți, LCG folosește următoarea formula pentru a genera octeți:\n",
        "$$ s_{next} = (a \\cdot s_{prev} + b) \\mod p $$\n",
        "\n",
        "unde $s_{next}$ și $s_{prev}$ sunt octeți (0-255) generați, $p = 257$, iar $a$ și $b$ au valori între 0 și 256.\n",
        "\n",
        "Mai știți și că primele 16 litere din plaintext sunt `“Let all creation”`. Criptarea a fost obținută realizând XOR între plaintext și secvența de octeți consecutivi generați de LCG.\n",
        "\n",
        "Spargeți LCG astfel încât să puteți prezice șirul de numere generate “aleatoriu”. Care este mesajul inițial?"
      ]
    },
    {
      "cell_type": "code",
      "execution_count": null,
      "metadata": {
        "id": "TVdhi2Q0pcg4"
      },
      "outputs": [],
      "source": [
        "class WeakRNG:\n",
        "    \"\"\"Simple class for weak RNG\"\"\"\n",
        "\n",
        "    def __init__(self) -> None:\n",
        "        self.rstate = 0\n",
        "        self.maxn = 255\n",
        "        self.a = 0  # Set this to correct value\n",
        "        self.b = 0  # Set this to correct value\n",
        "        self.p = 257\n",
        "\n",
        "    def init_state(self, rstate: int) -> None:\n",
        "        \"\"\"Initialise rstate\"\"\"\n",
        "        self.rstate = rstate  # Set this to some value\n",
        "        self.update_state()\n",
        "\n",
        "    def update_state(self) -> None:\n",
        "        \"\"\"Update state\"\"\"\n",
        "        self.rstate = (self.a * self.rstate + self.b) % self.p\n",
        "\n",
        "    def get_prg_byte(self) -> int:\n",
        "        \"\"\"Return a new PRG byte and update PRG state\"\"\"\n",
        "        b = self.rstate & 0xFF\n",
        "        self.update_state()\n",
        "        return b"
      ]
    },
    {
      "cell_type": "code",
      "execution_count": null,
      "metadata": {
        "id": "2g5XjwmarOEO"
      },
      "outputs": [],
      "source": [
        "from typing import List, Tuple\n",
        "\n",
        "\n",
        "# Initialise weak rng\n",
        "wr = WeakRNG()\n",
        "wr.init_state(0)\n",
        "\n",
        "# Print ciphertext\n",
        "CH = \"a432109f58ff6a0f2e6cb280526708baece6680acc1f5fcdb9523129434ae9f6ae9edc2f224b73a8\"\n",
        "print(\"Full ciphertext in hexa:\", CH)\n",
        "\n",
        "# Print known plaintext\n",
        "pknown = \"Let all creation\"\n",
        "nb = len(pknown)\n",
        "print(\"Known plaintext:\", pknown)\n",
        "pkh = str_2_hex(pknown)\n",
        "print(\"Plaintext in hexa:\", pkh)\n",
        "\n",
        "# Obtain first nb bytes of RNG\n",
        "gh = hexxor(pkh, CH[0 : nb * 2])\n",
        "print(gh)\n",
        "gbytes = []\n",
        "for i in range(nb):\n",
        "    gbytes.append(ord(hex_2_str(gh[2 * i : 2 * i + 2])))\n",
        "print(\"Bytes of RNG: \")\n",
        "print(gbytes)\n",
        "\n",
        "# Break the LCG here:\n",
        "# TODO 1.1: Find a and b, and set them in the RNG\n",
        "p = 257\n",
        "a = ((gbytes[2] - gbytes[1]) * pow(gbytes[1] - gbytes[0], -1, p)) % p\n",
        "b = (gbytes[1] - a * gbytes[0]) % p\n",
        "print(f\"Found a: {a}, b: {b}\")\n",
        "\n",
        "# TODO 1.2: Predict/generate rest of RNG bytes\n",
        "rng_bytes = gbytes[:]\n",
        "for i in range(nb, len(CH)):\n",
        "  rng_bytes.append((a * rng_bytes[i-1] + b) % 257)\n",
        "\n",
        "print(rng_bytes)\n",
        "\n",
        "\n",
        "\n",
        "# TODO 1.3: Decrypt plaintext\n",
        "CH_bytes = [int(CH[i:i+2], 16) for i in range(0, len(CH), 2)]\n",
        "decrypted_bytes = [CH_bytes[i] ^ rng_bytes[i] for i in range(len(CH_bytes))]\n",
        "decrypted_text = ''.join(chr(b) for b in decrypted_bytes)\n",
        "\n",
        "# TODO 1.4: Print the full plaintext\n",
        "print(\"Full plaintext is:\", decrypted_text)"
      ]
    },
    {
      "cell_type": "markdown",
      "metadata": {
        "id": "33rTWHXHs3Sg"
      },
      "source": [
        "## Exercițiul 2 (2p)"
      ]
    },
    {
      "cell_type": "markdown",
      "metadata": {
        "id": "BD28aPojtLVP"
      },
      "source": [
        "Avantaje. Scopul acestui exercițiu este de a clarifica conceptul de avantaje prezentat la curs. Vom considera două experimente $𝖤𝖷𝖯(0)$ și $𝖤𝖷𝖯(1)$, astfel:\n",
        "\n",
        "* În $𝖤𝖷𝖯(0)$ verificatorul dă cu banul (probabilitate de 1/2 pentru CAP și 1/2 pentru PAJURĂ) și transmite rezultatul adversarului 𝖠.\n",
        "* În $𝖤𝖷𝖯(1)$ verificatorul întotdeauna va transmite PAJURĂ către adversar.\n",
        "\n",
        "Considerăm $r=0$ pentru CAP și $r=1$ pentru PAJURĂ. Jocul va arăta astfel:\n",
        "\n",
        "![undistinguishability game](https://ocw.cs.pub.ro/courses/_media/sasc/laboratoare/adversar_prg.png)\n",
        "\n",
        "\n",
        "Scopul adversarului este să diferențieze între cele două experimente: la finalul fiecarui experiment, adversarul returnează un bit $\\mathsf{b'}$, $0$ sau $1$, în speranța de a ghici experimentul în care se află (adică, $\\mathsf{EXP}(b) = \\mathsf{EXP}(b')$).\n",
        "Fie $W_{b}$ evenimentul când în experimentul $\\mathsf{EXP}(b)$ adversarul returnează $b' = 1$. Adversarul vrea să își maximizeze avantajul de a distinge experimentele. Mai exact, el vrea să maximizeze valoarea $\\mathsf{Adv} = \\left| \\mathsf{Pr}\\left[W_{0}\\right] − \\mathsf{Pr}\\left[W_{1}\\right] \\right| \\in \\left[0, 1\\right]$.\n",
        "\n",
        "Avantajul $\\mathsf{Adv}$ redă capacitatea adversarului de a diferenția experimentele. Dacă avantajul este $0$, atunci advesarul se comportă identic în ambele cazuri și nu poate să le distingă. Dacă avantajul este $1$, atunci adversarul știe concret care este valoarea lui $b$. Dacă avantajul este neglijabil pentru orice adversar eficient atunci putem spune că nu se poate distinge între experimente.\n",
        "\n",
        "\n",
        "a. Calculați avantajul pentru fiecare dintre următorii adversari:\n",
        "  * A1: Returnează mereu $b'=1$.\n",
        "  * A2: Ignoră valoarea primită de la verificator și returnează aleatoriu $0$ sau $1$, cu aceeași probabilitate.\n",
        "  * A3: Returnează $1$ dacă a primit CAP ($r=0$) de la verificator, altfel returnează $0$.\n",
        "  * A4: Returnează $0$ dacă a primit CAP de la verificator, altfel returnează $1$.\n",
        "  * A5: Dacă a primit CAP, returnează $1$. Dacă a primit PAJURĂ, returnează aleatoriu $0$ sau $1$ cu aceeași probabilitate.\n",
        "  * A6: Dacă a primit CAP, returnează aleatoriu $0$ sau $1$, cu aceeași probabilitate. Dacă a primit PAJURĂ, returnează $0$.\n",
        "\n",
        "b. Care este avantajul maxim pe care îl poate obține un adversar? De ce?\n",
        "\n",
        "**Notă:** Încercați să obtineți mai întai o formulă generală ce nu depinde de adversar."
      ]
    },
    {
      "cell_type": "code",
      "source": [],
      "metadata": {
        "id": "BUVre6NLyoBk"
      },
      "execution_count": null,
      "outputs": []
    },
    {
      "cell_type": "markdown",
      "metadata": {
        "id": "ojc04wMDx3SC"
      },
      "source": [
        "**TODO:** Scrieție aici răspunsurile voastre (dublu-click pe aceasta celulă pentru a intra în modul editare).\n"
      ]
    },
    {
      "cell_type": "markdown",
      "source": [
        "1 Adversarul A1: Returnează mereu b' = 1.\n",
        "  P(Wo) = 1, P(W1) = 1\n",
        "  Adv = 1 - 1 = 0\n",
        "\n",
        "2 Adversarul A2: Returnează aleatoriu 0 sau 1 (probabilitate 50% pentru fiecare).\n",
        "P(Wo) = 0.5, P(W1) = 0.5\n",
        "Adv = 0.5 - 0.5 = 0\n",
        "\n",
        "3 Adversarul A3: Returnează 1 doar dacă primește CAP, altfel returnează 0.\n",
        "P(W0) = P(CAP) = 0.5\n",
        "P(W1) = 0 (deoarece în EXP(1) primește doar PAJURĂ și returnează 0)\n",
        "Adv = 0.5 - 0 = 0.5\n",
        "\n",
        "4 Adversarul A4: Returnează 0 pentru CAP, 1 pentru PAJURĂ.\n",
        "P(W0) = P(PAJURĂ) = 0.5\n",
        "P(W1) = 1\n",
        "Adv = = |0.5 - 1| = 0.5\n",
        "\n",
        "5 Adversarul A5: Returnează 1 pentru CAP, iar pentru PAJURĂ returnează aleatoriu 0 sau 1 (50% fiecare).\n",
        "P(Wo) = 0.5 × 1 + 0.5 × 0.5 = 0.75\n",
        "P(W1) = 0.5 (deoarece returnează aleatoriu 0 sau 1 pentru PAJURĂ)\n",
        "Adv = 0.75 - 0.5 = 0.25\n",
        "\n",
        "6  Adversarul A6: Returnează aleatoriu pentru CAP (50% 0,50% 1), și mereu 0 pentru PAJURĂ.\n",
        "P(Wo) = 0.5 × 0.5 + 0.5 × 0 = 0.25\n",
        "P(W1) = 0\n",
        "Adv = 0.25 - 0 = 0.25\n"
      ],
      "metadata": {
        "id": "32JFtabexBkZ"
      }
    },
    {
      "cell_type": "markdown",
      "metadata": {
        "id": "TgOB_egIuPrO"
      },
      "source": [
        "## Exercițiul 3 (2p)"
      ]
    },
    {
      "cell_type": "markdown",
      "metadata": {
        "id": "9NyASgGcuTcu"
      },
      "source": [
        "O aplicație a avantajului în schemele criptografice este de a arăta că un $PRG$ este sigur sau nu. Amintiți-vă de la curs că $G : K \\rightarrow \\{0, 1\\}^n$ este un $PRG$ sigur dacă pentru orice test statistic $\\mathsf{A}$ eficient (care rulează în timp polinomial), avantajul $\\mathsf{Adv_{PRG}[A, G]}$ este neglijabil. Un test statistic este de fapt un algoritm care încearcă să determine dacă intrarea pare aleatoare sau nu. Acest algoritm poate fi definit astfel:\n",
        "\n",
        "\\begin{equation*}\n",
        "  A(x) =\n",
        "    \\begin{cases}\n",
        "      1 ,& \\text{dacă x e aleatoriu}\\\\\n",
        "      0 ,& \\text{altfel}\n",
        "    \\end{cases}\n",
        "\\end{equation*}\n",
        "\n",
        "Putem asocia pentru fiecare test statistic $A$ câte un adversar care încearcă să spargă $\\mathsf{PRG}$-ul (adică poate distinge între rezultatul $\\mathsf{PRG}$-ului și un generator de numere complet aleatoare). În acest caz, vom defini experimentele după cum urmează:\n",
        "  * În $\\mathsf{EXP}(0)$ verificatorul trimite către adversarul $\\mathsf{A}$ valoarea $G(k)$ generată de $\\mathsf{PRG}$;\n",
        "  * În $\\mathsf{EXP}(1)$ verificatorul trimite către adversarul $\\mathsf{A}$ o valoare $r$ generată de un generator de numere complet aleatoare.\n",
        "\n",
        "Ca mai devreme, $W_{b}$ este evenimentul în care adversarul spune că numărul este aleatoriu și a avut loc experimentul $b$. Dacă adversarul poate să distingă între $\\mathsf{PRG}$ și un generator de numere complet aleatoare, atunci $\\mathsf{PRG}$-ul nu e sigur. Așadar, avantajul devine:\n",
        "\n",
        "$$\\mathsf{Adv_{PRG}[A, G]} = \\left|\\underset{k \\leftarrow K}{Pr}[A(G(k)) = 1] - \\underset{r \\leftarrow \\{0, 1\\}^n}{Pr}[A(r) = 1] \\right|$$\n",
        "\n",
        "Deși problema determinării dacă există $\\mathsf{PRG}$-uri care să poată fi demonstrate ca fiind sigure este echivalentă cu a rezolva bine-cunoscuta problemă $\\mathsf{P}$ vs $\\mathsf{NP}$, în practică există $\\mathsf{PRG}$-uri considerate sigure prin folosirea unor euristici.\n",
        "\n",
        "În acest exercițiu, se dă un $\\mathsf{PRG}$ $G : \\{0, 1\\}^s \\rightarrow \\{0, 1\\}^n$ sigur. Cu ajutorul acestuia, spuneți dacă următoarele $\\mathsf{PRG}$-uri sunt sigure.\n",
        "  * $G_{1}(k) = G(k) \\oplus 1^n$\n",
        "  * $G_{2}(k) = G(k) \\| 0$\n",
        "  * $G_{3}(k) = G(0)$\n",
        "  * $G_{4}(k=(k_1, k_2)) = G(k_1) \\| G(k_2)$\n",
        "  * $G_{5}(k)=G(k) \\| G(k)$\n",
        "\n",
        "**Notă:** Pentru două șiruri de biți $y$ și $z$ folosim $y \\| z$ pentru a indica concatenarea între $y$ și $z$.\n",
        "\n",
        "**Hint:** Pentru unele dintre ele nu este nevoie să calculați avantajul."
      ]
    },
    {
      "cell_type": "markdown",
      "source": [
        "1) Prin xor nu se poate afla nimic nou daca se pleaca de la o cheie sigura, deci este sigur.\n",
        "\n",
        "2) Un bit de 0 in capat face prg ul nesigur.\n",
        "\n",
        "3) Nu mai e nimic sigur daca nu ne mai folosim de o cheie sigura.\n",
        "\n",
        "4) 2 prg uri sigure fac un prg sigur la randul lor prin concatenare.\n",
        "\n",
        "5) un prg repetat este un pattern, deci nu este sigur."
      ],
      "metadata": {
        "id": "ukYDA6XnypvK"
      }
    },
    {
      "cell_type": "markdown",
      "metadata": {
        "id": "VisGwPP0yLJV"
      },
      "source": [
        "**TODO:** Scrieție aici răspunsurile voastre (dublu-click pe aceasta celulă pentru a intra în modul editare)."
      ]
    },
    {
      "cell_type": "markdown",
      "metadata": {
        "id": "tySm9GR_up9C"
      },
      "source": [
        "## Exercițiul 4 (3p)"
      ]
    },
    {
      "cell_type": "markdown",
      "metadata": {
        "id": "LQZtVfH_urnh"
      },
      "source": [
        "Vom folosi experimentul definit mai devreme pentru a construi un generator pseudoaleatoriu ($\\mathsf{PRG}$):\n",
        "  1. Se alege lungimea $n$ a șirului ce va fi generat\n",
        "  2. Se obține un șir de biți $R$ de lungime $n$ (de exemplu, puteți folosi chiar și LCG-ul din Exercițiul 1)\n",
        "  3. Pentru fiecare bit $r$ din șirul $R$ generat anterior, $\\mathsf{PRG}$-ul va întoarce un bit $b$ astfel:\n",
        "    * dacă bitul $r$ este $0$, atunci întoarce un bit aleatoriu $b \\in \\{0, 1\\}$\n",
        "    * dacă bitul $r$ este $1$, atunci întoarce $1$\n",
        "\n",
        "a. Implementați **frequency (monobit) test** așa cum este descris de către [NIST (vezi secțiunea 2.1)](http://csrc.nist.gov/publications/nistpubs/800-22-rev1a/SP800-22rev1a.pdf). Verificați dacă secvența generată de $\\mathsf{PRG}$-ul de mai sus este aleatoare sau nu (să presupunem pentru $n=100$).\n",
        "\n",
        "b. Executați testul pe un șir aleatoriu de biți (de exemplu, șirul R folosit în $\\mathsf{PRG}$) și comparați rezultatele.\n",
        "\n",
        "Dacă rezultatele celor două experimente diferă în mod regulat, acest test vă oferă un atacator care sparge $\\mathsf{PRG}$-ul descris mai sus.\n",
        "\n",
        "**Hint:** Pentru a genera un șir aleatoriu de biți, puteți folosi o funcție de forma:\n",
        "``` python\n",
        "import random\n",
        "\n",
        "def get_random_string(n):\n",
        "    \"\"\" Generate random bit string \"\"\"\n",
        "    return bin(random.getrandbits(n)).lstrip('0b').zfill(n)\n",
        "```\n",
        "\n",
        "**Hint:** În Python puteți folosi funcții precum `sqrt`, `fabs` sau `erfc` din modulul `math`.\n",
        "``` python\n",
        "import math\n",
        "```"
      ]
    },
    {
      "cell_type": "code",
      "execution_count": null,
      "metadata": {
        "id": "bwdmgGK8s5_e"
      },
      "outputs": [],
      "source": [
        "import random\n",
        "import math\n",
        "\n",
        "def lcg(seed: int, n: int, a=1664525, c=1013904223, m=2**32):\n",
        "    \"\"\"Linear Congruential Generator (LCG) to generate n bits\"\"\"\n",
        "    rand_bits = \"\"\n",
        "    x = seed\n",
        "    for _ in range(n):\n",
        "        x = (a * x + c) % m\n",
        "        rand_bits += str(x % 2)\n",
        "    return rand_bits\n",
        "\n",
        "def prg(n: int, seed: int) -> str:\n",
        "    \"\"\"Modified PRG with 80% chance to flip each bit\"\"\"\n",
        "    R = lcg(seed, n)\n",
        "    return \"\".join(str(1 - int(r)) if random.random() < 0.8 else r for r in R)\n",
        "\n",
        "def monobit_test(bits: str) -> float:\n",
        "    \"\"\"NIST Monobit Frequency Test\"\"\"\n",
        "    n = len(bits)\n",
        "    S_n = sum(1 if b == \"1\" else -1 for b in bits)\n",
        "    S_n /= math.sqrt(n)\n",
        "    p_value = math.erfc(abs(S_n) / math.sqrt(2))\n",
        "    return p_value\n",
        "\n",
        "# Run tests\n",
        "N_RUNS = 2000\n",
        "N_BITS = 200\n",
        "total_prg_pass = 0\n",
        "total_random_pass = 0\n",
        "\n",
        "for _ in range(N_RUNS):\n",
        "    seed = random.randint(0, 2**32 - 1)\n",
        "    prg_sequence = prg(N_BITS, seed)\n",
        "    rand_sequence = \"\".join(str(random.randint(0, 1)) for _ in range(N_BITS))\n",
        "\n",
        "    prg_p = monobit_test(prg_sequence)\n",
        "    rand_p = monobit_test(rand_sequence)\n",
        "\n",
        "    if prg_p > 0.01:\n",
        "        total_prg_pass += 1\n",
        "    if rand_p > 0.01:\n",
        "        total_random_pass += 1\n",
        "\n",
        "print(f\"PRG passes monobit test {total_prg_pass}/{N_RUNS} times\")\n",
        "print(f\"Random sequence passes monobit test {total_random_pass}/{N_RUNS} times\")\n",
        "\n",
        "#se pare ca o idee foarte simpla(sansa de 80% de a face flip de bit, creste rata de pass la test, cu putin dar o face)\n",
        "\n"
      ]
    },
    {
      "cell_type": "markdown",
      "metadata": {
        "id": "2HIUdviuvKCR"
      },
      "source": [
        "## Exercițiul 5 - Bonus (2p)"
      ]
    },
    {
      "cell_type": "markdown",
      "metadata": {
        "id": "cZnKQT9WvNkz"
      },
      "source": [
        "În acest exercițiu, veți încerca să verificați dacă într-adevar **Salsa20 stream cipher** este mai rapid decât **RC4**. Descărcați [această](https://ocw.cs.pub.ro/courses/_media/ic/laboratoare/salsa20_rc4_surse_c.zip) arhivă. Rulați programul folosind același fișier de intrare atât pentru **Salsa20**, cât și pentru **RC4**. Comparați timpul de execuție în ambele cazuri.\n",
        "\n",
        "**Notă:** Pentru sistemele UNIX (și WSL), folosiți scriptul `prepare.sh` pentru a complila sursele și a genera fișierele necesare. Dacă nu folosiți WSL pe Windows, scriptul `prepare.ps1` generează fișierele necesare, dar nu și compilează sursele.\n",
        "\n",
        "**Notă:** Folosiți opțiunea `-h` pentru a afișa lista tuturor argumentelor folosite de program.\n",
        "\n",
        "**Notă:** Uitați-vă în fișierul `salsa20.h`. Unde se execută rundele de criptare?\n",
        "\n",
        "Încercați să implementați aceeași funcționalitate folosind OpenSSL. OpenSSL suportă RC4, dar nu și Salsa20. Folosiți ChaCha20 in loc de Salsa20, aceasta fiind o variantă îmbunătățită a algoritmului."
      ]
    },
    {
      "cell_type": "code",
      "execution_count": null,
      "metadata": {
        "id": "-nd-yJR-vMNV"
      },
      "outputs": [],
      "source": [
        "# Download and unzip the archive\n",
        "!wget https://ocw.cs.pub.ro/courses/_media/ic/laboratoare/salsa20_rc4_surse_c.zip -O salsa20_rc4_surse_c.zip\n",
        "!unzip -o salsa20_rc4_surse_c.zip"
      ]
    },
    {
      "cell_type": "code",
      "execution_count": null,
      "metadata": {
        "id": "RpClr7rH-Jkd"
      },
      "outputs": [],
      "source": [
        "# TODO: Implement your solution here\n"
      ]
    }
  ],
  "metadata": {
    "colab": {
      "collapsed_sections": [
        "OVYpWZP4s_nH"
      ],
      "private_outputs": true,
      "provenance": [],
      "toc_visible": true
    },
    "kernelspec": {
      "display_name": "Python 3",
      "name": "python3"
    },
    "language_info": {
      "codemirror_mode": {
        "name": "ipython",
        "version": 3
      },
      "file_extension": ".py",
      "mimetype": "text/x-python",
      "name": "python",
      "nbconvert_exporter": "python",
      "pygments_lexer": "ipython3",
      "version": "3.11.11"
    }
  },
  "nbformat": 4,
  "nbformat_minor": 0
}